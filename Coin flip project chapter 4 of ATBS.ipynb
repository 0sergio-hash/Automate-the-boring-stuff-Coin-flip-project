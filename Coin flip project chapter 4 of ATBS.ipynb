{
 "cells": [
  {
   "cell_type": "markdown",
   "metadata": {},
   "source": [
    "# Instructions for this project at the Automate the boring stuff with python [website](https://automatetheboringstuff.com/2e/chapter4/)."
   ]
  },
  {
   "cell_type": "markdown",
   "metadata": {},
   "source": [
    "**This project asks us to simulate 100 coin flips 10,000 times and calculate the average likelihood of getting a streak of 6 heads or tails. It some starter code, but most is left up to us.**"
   ]
  },
  {
   "cell_type": "code",
   "execution_count": 1,
   "metadata": {},
   "outputs": [
    {
     "name": "stdout",
     "output_type": "stream",
     "text": [
      "Chance of streak: 1%\n",
      "Your total number of streaks was: 15187\n",
      "Your total number of heads streaks was: 7607\n",
      "Your total number of tails streaks was: 7580\n"
     ]
    }
   ],
   "source": [
    "# Pracctice project: Coin Flip Streaks\n",
    "\n",
    "import random\n",
    "numberOfStreaks = 0\n",
    "heads_Streaks = 0\n",
    "tails_Streaks = 0\n",
    "for experimentNumber in range(10000):\n",
    "    # Code that creates a list of 100 'heads' or 'tails' values\n",
    "    results = []\n",
    "    for flip in range(100):\n",
    "        face = random.randint(0,1)\n",
    "        if face == 0:\n",
    "            results.append('heads')\n",
    "        elif face == 1:\n",
    "            results.append('tails')\n",
    "    \n",
    "    #Code that checks if there is a streak of 6 heads or tails in a row.\n",
    "    experiment_String = str(results)\n",
    "    temp_head_streaks = experiment_String.count(\"'heads', 'heads', 'heads', 'heads', 'heads', 'heads'\" )\n",
    "    temp_tail_streaks = experiment_String.count(\"'tails', 'tails', 'tails', 'tails', 'tails', 'tails'\" )\n",
    "    temp_total_streaks = temp_head_streaks + temp_tail_streaks\n",
    "    \n",
    "    numberOfStreaks += temp_total_streaks \n",
    "    heads_Streaks += temp_head_streaks\n",
    "    tails_Streaks += temp_tail_streaks\n",
    "    \n",
    "print('Chance of streak: %s%%' % int((numberOfStreaks / 10000))) # Original had us diving by 100. # Changed to 10000\n",
    "# to get average chance per experiment\n",
    "print('Your total number of streaks was: {}'.format(numberOfStreaks))\n",
    "print('Your total number of heads streaks was: {}'.format(heads_Streaks))\n",
    "print('Your total number of tails streaks was: {}'.format(tails_Streaks))"
   ]
  },
  {
   "cell_type": "code",
   "execution_count": null,
   "metadata": {},
   "outputs": [],
   "source": []
  }
 ],
 "metadata": {
  "kernelspec": {
   "display_name": "ibm_project",
   "language": "python",
   "name": "ibm_project"
  },
  "language_info": {
   "codemirror_mode": {
    "name": "ipython",
    "version": 3
   },
   "file_extension": ".py",
   "mimetype": "text/x-python",
   "name": "python",
   "nbconvert_exporter": "python",
   "pygments_lexer": "ipython3",
   "version": "3.7.9"
  }
 },
 "nbformat": 4,
 "nbformat_minor": 4
}
